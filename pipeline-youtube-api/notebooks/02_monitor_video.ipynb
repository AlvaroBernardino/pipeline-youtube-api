{
 "cells": [
  {
   "cell_type": "code",
   "execution_count": 17,
   "metadata": {},
   "outputs": [],
   "source": [
    "# Biblioteca\n",
    "import os\n",
    "import json\n",
    "from googleapiclient.discovery import build\n",
    "from datetime import datetime\n",
    "import pandas as pd"
   ]
  },
  {
   "cell_type": "code",
   "execution_count": 18,
   "metadata": {},
   "outputs": [],
   "source": [
    "# Variáveis locais\n",
    "API_KEY = os.getenv(\"YOUTUBE_API_KEY\")\n",
    "CSV_PATH = \"../config/videos_monitorados.csv\""
   ]
  },
  {
   "cell_type": "code",
   "execution_count": 19,
   "metadata": {},
   "outputs": [],
   "source": [
    "# Conectando API do YouTube e fazendo a pasta de armazenamento\n",
    "youtube = build('youtube', 'v3', developerKey=API_KEY)\n",
    "\n",
    "coment_dir = \"../data/comments\"\n",
    "os.makedirs(coment_dir, exist_ok=True)"
   ]
  },
  {
   "cell_type": "code",
   "execution_count": 20,
   "metadata": {},
   "outputs": [
    {
     "name": "stdout",
     "output_type": "stream",
     "text": [
      "\n",
      "🧪 Coletando comentários do vídeo po3iuig0aDY\n",
      "⏹️ Comentário já salvo, interrompendo leitura.\n",
      "✅ Nenhum comentário novo.\n",
      "\n",
      "🧪 Coletando comentários do vídeo exqyJZQWsmw\n",
      "⏹️ Comentário já salvo, interrompendo leitura.\n",
      "✅ Nenhum comentário novo.\n",
      "\n",
      "🧪 Coletando comentários do vídeo cncBTBNdmyw\n",
      "💾 Salvando 1429 novos comentários.\n"
     ]
    }
   ],
   "source": [
    "# Salva os comentários em um JSON\n",
    "df = pd.read_csv(CSV_PATH)\n",
    "ids_ativos = df[df['status'] == 'ativo']['video_id'].tolist()\n",
    "\n",
    "for video_id in ids_ativos:\n",
    "    print(f\"\\n🧪 Coletando comentários do vídeo {video_id}\")\n",
    "\n",
    "    json_path = os.path.join(coment_dir, f\"{video_id}.json\")\n",
    "\n",
    "    if os.path.exists(json_path):\n",
    "        with open(json_path, \"r\", encoding=\"utf-8\") as f:\n",
    "            comentarios_salvos = json.load(f)\n",
    "        comment_ids_existentes = {c['comment_id'] for c in comentarios_salvos}\n",
    "    else:\n",
    "        comentarios_salvos = []\n",
    "        comment_ids_existentes = set()\n",
    "\n",
    "    novos_comentarios = []\n",
    "    next_page_token = None\n",
    "    encontrou_existente = False\n",
    "\n",
    "    while not encontrou_existente:\n",
    "        response = youtube.commentThreads().list(\n",
    "            part='snippet',\n",
    "            videoId=video_id,\n",
    "            maxResults=100,\n",
    "            pageToken=next_page_token\n",
    "        ).execute()\n",
    "\n",
    "        for item in response.get(\"items\", []):\n",
    "            comment_id = item['id']\n",
    "            comment = item['snippet']['topLevelComment']['snippet']\n",
    "\n",
    "            if comment_id in comment_ids_existentes:\n",
    "                print(\"⏹️ Comentário já salvo, interrompendo leitura.\")\n",
    "                encontrou_existente = True\n",
    "                break\n",
    "\n",
    "            novos_comentarios.append({\n",
    "                \"comment_id\": comment_id,\n",
    "                \"author\": comment.get('authorDisplayName'),\n",
    "                \"text\": comment.get('textDisplay'),\n",
    "                \"publishedAt\": comment.get('publishedAt'),\n",
    "                \"likeCount\": comment.get('likeCount', 0)\n",
    "            })\n",
    "\n",
    "        next_page_token = response.get(\"nextPageToken\")\n",
    "        if not next_page_token:\n",
    "            break\n",
    "\n",
    "    if novos_comentarios:\n",
    "        print(f\"💾 Salvando {len(novos_comentarios)} novos comentários.\")\n",
    "        todos = comentarios_salvos + novos_comentarios\n",
    "        with open(json_path, \"w\", encoding=\"utf-8\") as f:\n",
    "            json.dump(todos, f, ensure_ascii=False, indent=2)\n",
    "    else:\n",
    "        print(\"✅ Nenhum comentário novo.\")\n"
   ]
  }
 ],
 "metadata": {
  "kernelspec": {
   "display_name": ".venv",
   "language": "python",
   "name": "python3"
  },
  "language_info": {
   "codemirror_mode": {
    "name": "ipython",
    "version": 3
   },
   "file_extension": ".py",
   "mimetype": "text/x-python",
   "name": "python",
   "nbconvert_exporter": "python",
   "pygments_lexer": "ipython3",
   "version": "3.13.2"
  }
 },
 "nbformat": 4,
 "nbformat_minor": 2
}
