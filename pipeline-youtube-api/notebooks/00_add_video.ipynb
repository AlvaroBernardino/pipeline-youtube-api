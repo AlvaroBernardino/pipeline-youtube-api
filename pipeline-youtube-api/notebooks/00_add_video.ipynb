{
 "cells": [
  {
   "cell_type": "code",
   "execution_count": 88,
   "metadata": {},
   "outputs": [],
   "source": [
    "# Bibliotecas\n",
    "import os\n",
    "import pandas as pd\n",
    "from urllib.parse import urlparse, parse_qs\n",
    "from datetime import datetime\n",
    "from utils import get_video_id, add_video"
   ]
  },
  {
   "cell_type": "code",
   "execution_count": 89,
   "metadata": {},
   "outputs": [],
   "source": [
    "# Definindo caminhos\n",
    "CSV_PATH = os.getenv('CSV_PATH')\n",
    "os.makedirs('../config', exist_ok=True)\n",
    "\n",
    "# Definindo variáveis\n",
    "hoje = datetime.now().isoformat()\n",
    "url = input(\"Cole a URL do vídeo do YouTube: \").strip()"
   ]
  },
  {
   "cell_type": "code",
   "execution_count": 90,
   "metadata": {},
   "outputs": [],
   "source": [
    "# Função get_video_id\n",
    "def get_video_id(url):\n",
    "    \"\"\"Extrai o videoId da URL do YouTube.\"\"\"\n",
    "    \n",
    "    try:\n",
    "        url = url.strip()  # remove espaços e quebras de linha\n",
    "        parsed = urlparse(url)\n",
    "        domain = parsed.netloc.lower()\n",
    "        # print(\"URL:\", url)\n",
    "        # print(\"Parsed netloc:\", parsed.netloc)\n",
    "        # print(\"Parsed path:\", parsed.path)\n",
    "        # print(\"Parsed query:\", parsed.query)\n",
    "\n",
    "        if 'youtube.com' in domain:\n",
    "            query_params = parse_qs(parsed.query)\n",
    "            # print(\"Query params:\", query_params)\n",
    "            return query_params.get('v', [None])[0]\n",
    "        elif 'youtu.be' in domain:\n",
    "            return parsed.path.lstrip('/')\n",
    "    except Exception as e:\n",
    "        print(f\"Erro ao extrair videoId: {e}\")\n",
    "    return None"
   ]
  },
  {
   "cell_type": "code",
   "execution_count": 91,
   "metadata": {},
   "outputs": [],
   "source": [
    "# Função para adicionar o vídeo no CSV\n",
    "def add_video(video_id):\n",
    "    \"\"\"Adiciona ou ignora um vídeo já presente\"\"\"\n",
    "    hoje = datetime.now().isoformat()\n",
    "    if os.path.exists(CSV_PATH):\n",
    "        df = pd.read_csv(CSV_PATH)\n",
    "        if video_id in df['video_id'].values:\n",
    "            print(f\"Vídeo {video_id} já está sendo monitorado.\")\n",
    "            return\n",
    "    else:\n",
    "        df = pd.DataFrame(columns=['video_id', 'data_inicio', 'status'])\n",
    "\n",
    "    novo = pd.DataFrame([{\n",
    "        'video_id': video_id,\n",
    "        'data_inicio': hoje,\n",
    "        'status': 'ativo'\n",
    "    }])\n",
    "    \n",
    "    df = pd.concat([df, novo], ignore_index=True)\n",
    "    df.to_csv(CSV_PATH, index=False)"
   ]
  },
  {
   "cell_type": "code",
   "execution_count": 92,
   "metadata": {},
   "outputs": [
    {
     "name": "stdout",
     "output_type": "stream",
     "text": [
      "Vídeo po3iuig0aDY já está sendo monitorado.\n",
      "Vídeo po3iuig0aDY adicionado com sucesso.\n"
     ]
    }
   ],
   "source": [
    "# Adicionando o video à lista\n",
    "video_id = get_video_id(url)\n",
    "\n",
    "if video_id:\n",
    "    add_video(video_id)\n",
    "else:\n",
    "    print(\"URL inválida.\")\n",
    "\n",
    "print(f\"Vídeo {video_id} adicionado com sucesso.\")"
   ]
  }
 ],
 "metadata": {
  "kernelspec": {
   "display_name": ".venv",
   "language": "python",
   "name": "python3"
  },
  "language_info": {
   "codemirror_mode": {
    "name": "ipython",
    "version": 3
   },
   "file_extension": ".py",
   "mimetype": "text/x-python",
   "name": "python",
   "nbconvert_exporter": "python",
   "pygments_lexer": "ipython3",
   "version": "3.13.2"
  }
 },
 "nbformat": 4,
 "nbformat_minor": 2
}
