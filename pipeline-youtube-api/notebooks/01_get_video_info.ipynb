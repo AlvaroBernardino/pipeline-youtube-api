{
 "cells": [
  {
   "cell_type": "markdown",
   "metadata": {},
   "source": [
    "## Realiza a primeira coleta de informações sobre o vídeo"
   ]
  },
  {
   "cell_type": "code",
   "execution_count": 126,
   "metadata": {},
   "outputs": [],
   "source": [
    "# Bibliotecas\n",
    "import os\n",
    "import pandas as pd\n",
    "import sqlite3\n",
    "from datetime import datetime\n",
    "from googleapiclient.discovery import build"
   ]
  },
  {
   "cell_type": "code",
   "execution_count": 127,
   "metadata": {},
   "outputs": [],
   "source": [
    "# Carrega API Key e inicializa cliente\n",
    "api_key = os.getenv('YOUTUBE_API_KEY')\n",
    "youtube = build('youtube', 'v3', developerKey=api_key)"
   ]
  },
  {
   "cell_type": "code",
   "execution_count": 128,
   "metadata": {},
   "outputs": [],
   "source": [
    "# Conecta (ou cria) o banco SQLite local\n",
    "conn = sqlite3.connect('../data/sql/videos.db')\n",
    "cursor = conn.cursor()"
   ]
  },
  {
   "cell_type": "code",
   "execution_count": 129,
   "metadata": {},
   "outputs": [],
   "source": [
    "# Cria a tabela se não existir\n",
    "cursor.execute('''\n",
    "    CREATE TABLE IF NOT EXISTS videos_info (\n",
    "        video_id TEXT PRIMARY KEY,\n",
    "        titulo TEXT,\n",
    "        descricao TEXT,\n",
    "        data_coleta TEXT,\n",
    "        visualizacoes INTEGER,\n",
    "        likes INTEGER,\n",
    "        comentarios INTEGER\n",
    "    )\n",
    "''')\n",
    "\n",
    "cursor.execute('''\n",
    "    CREATE TABLE IF NOT EXISTS channels_info (\n",
    "    channel_id TEXT PRIMARY KEY,\n",
    "    nome TEXT,\n",
    "    descricao TEXT,\n",
    "    inscritos INTEGER,\n",
    "    visualizacoes INTEGER,\n",
    "    total_videos INTEGER,\n",
    "    data_coleta TEXT\n",
    "    )\n",
    "''')\n",
    "\n",
    "conn.commit()"
   ]
  },
  {
   "cell_type": "code",
   "execution_count": 130,
   "metadata": {},
   "outputs": [],
   "source": [
    "# Variáveis locais\n",
    "csv_path = \"../config/videos_monitorados.csv\""
   ]
  },
  {
   "cell_type": "code",
   "execution_count": 131,
   "metadata": {},
   "outputs": [],
   "source": [
    "# Lê os vídeos monitorados com status ativo e adiciona em uma variável de lista\n",
    "df_videos = pd.read_csv(csv_path)\n",
    "ids_ativos = df_videos[df_videos['status'] == 'ativo']['video_id'].tolist()"
   ]
  },
  {
   "cell_type": "markdown",
   "metadata": {},
   "source": [
    "### EXTRAÇÃO"
   ]
  },
  {
   "cell_type": "code",
   "execution_count": null,
   "metadata": {},
   "outputs": [
    {
     "name": "stdout",
     "output_type": "stream",
     "text": [
      "Nenhum vídeo novo adicionado à lista\n",
      "VINHETA SUPERCINE 2007 adicionado ao banco.\n"
     ]
    }
   ],
   "source": [
    "# Extrair dados do vídeo \n",
    "# Itera pelos vídeos\n",
    "for vid in ids_ativos:\n",
    "    # Verifica se já existe no banco\n",
    "    cursor.execute(\"SELECT 1 FROM videos_info WHERE video_id = ?\", (vid,))\n",
    "    if cursor.fetchone():\n",
    "        print(f\"Pulando banco já cadastrado\")\n",
    "        continue\n",
    "\n",
    "    # Consulta API\n",
    "    try:\n",
    "        response = youtube.videos().list(\n",
    "            part='snippet,statistics',\n",
    "            id=vid\n",
    "        ).execute()\n",
    "\n",
    "        item = response['items'][0]\n",
    "        snippet = item['snippet']\n",
    "        stats = item['statistics']\n",
    "        titulo = snippet.get('title', '')\n",
    "        descricao = snippet.get('description', '')\n",
    "        data_coleta = datetime.now().isoformat()\n",
    "        visualizacoes = int(stats.get('viewCount', 0))\n",
    "        likes = int(stats.get('likeCount', 0))\n",
    "        comentarios = int(stats.get('commentCount', 0))\n",
    "    except:\n",
    "        print(f\"Erro ao capturar os dados\")\n",
    "        \n",
    "comentarios = int(stats.get('commentCount', 0))\n",
    "\n",
    "# Insere os dados no banco\n",
    "try:\n",
    "    cursor.execute(\"\"\"\n",
    "        INSERT INTO videos_info (\n",
    "            video_id, titulo, descricao, data_coleta,\n",
    "            visualizacoes, likes, comentarios\n",
    "        ) VALUES (?, ?, ?, ?, ?, ?, ?)\n",
    "    \"\"\", (vid, titulo, descricao, data_coleta, visualizacoes, likes, comentarios))\n",
    "    print(f\"{titulo} adicionado ao banco.\")\n",
    "except:\n",
    "    pass\n",
    "\n",
    "conn.commit()"
   ]
  },
  {
   "cell_type": "code",
   "execution_count": 133,
   "metadata": {},
   "outputs": [
    {
     "name": "stdout",
     "output_type": "stream",
     "text": [
      "Canal PedroQuintelaify inserido no banco.\n"
     ]
    }
   ],
   "source": [
    "# Extrair informações de canal\n",
    "\n",
    "canal_id = snippet.get('channelId', '')\n",
    "\n",
    "# Verifica se o canal já tá no banco\n",
    "cursor.execute(\"SELECT 1 FROM channels_info WHERE channel_id = ?\", (canal_id,))\n",
    "if cursor.fetchone():\n",
    "    print(f\"Canal {canal_id} já está no banco, pulando.\")\n",
    "else:\n",
    "    # Consulta o canal na API\n",
    "    canal_response = youtube.channels().list(\n",
    "        part='snippet,statistics',\n",
    "        id=canal_id\n",
    "    ).execute()\n",
    "\n",
    "    canal_info = canal_response['items'][0]\n",
    "    c_snippet = canal_info['snippet']\n",
    "    c_stats = canal_info['statistics']\n",
    "\n",
    "    nome_canal = c_snippet.get('title', '')\n",
    "    descricao_canal = c_snippet.get('description', '')\n",
    "    inscritos = int(c_stats.get('subscriberCount', 0))\n",
    "    visualizacoes = int(c_stats.get('viewCount', 0))\n",
    "    qtd_videos = int(c_stats.get('videoCount', 0))\n",
    "    data_coleta = datetime.now().isoformat()\n",
    "\n",
    "    cursor.execute('''\n",
    "        INSERT INTO channels_info (\n",
    "            channel_id,\n",
    "            nome,\n",
    "            descricao,\n",
    "            inscritos,\n",
    "            visualizacoes,\n",
    "            total_videos,\n",
    "            data_coleta\n",
    "        ) VALUES (?, ?, ?, ?, ?, ?, ?)\n",
    "    ''', (\n",
    "        canal_id,\n",
    "        nome_canal,\n",
    "        descricao_canal,\n",
    "        inscritos,\n",
    "        visualizacoes,\n",
    "        qtd_videos,\n",
    "        data_coleta\n",
    "    ))\n",
    "\n",
    "    conn.commit()\n",
    "    print(f\"Canal {nome_canal} inserido no banco.\")"
   ]
  }
 ],
 "metadata": {
  "kernelspec": {
   "display_name": ".venv",
   "language": "python",
   "name": "python3"
  },
  "language_info": {
   "codemirror_mode": {
    "name": "ipython",
    "version": 3
   },
   "file_extension": ".py",
   "mimetype": "text/x-python",
   "name": "python",
   "nbconvert_exporter": "python",
   "pygments_lexer": "ipython3",
   "version": "3.13.2"
  }
 },
 "nbformat": 4,
 "nbformat_minor": 2
}
